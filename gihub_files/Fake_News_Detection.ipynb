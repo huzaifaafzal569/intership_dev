{
 "cells": [
  {
   "cell_type": "code",
   "execution_count": null,
   "metadata": {
    "colab": {
     "base_uri": "https://localhost:8080/"
    },
    "collapsed": true,
    "id": "142c0Gh8t0y1",
    "outputId": "ac2ce582-f35e-469b-e42f-e6bbdb5a1691"
   },
   "outputs": [
    {
     "name": "stdout",
     "output_type": "stream",
     "text": [
      "Authtoken saved to configuration file: /root/.config/ngrok/ngrok.yml\n"
     ]
    }
   ],
   "source": [
    "\n",
    "           #-----------------------FAKE NEWS DETECTION------------------------#\n",
    "!pip install -q pyngrok flask scikit-learn joblib nltk pandas pyngrok\n",
    "!ngrok config add-authtoken 2vH3CdcGgUxPDqoE8lXwA6NFBEv_4yCEdukGNc29reHrXcRP5\n",
    "import pandas as pd\n",
    "import re\n",
    "import nltk\n",
    "import joblib\n",
    "from nltk.corpus import stopwords\n",
    "from nltk.stem import WordNetLemmatizer\n",
    "from sklearn.feature_extraction.text import TfidfVectorizer\n",
    "from sklearn.model_selection import train_test_split\n",
    "from sklearn.naive_bayes import MultinomialNB\n",
    "from sklearn.metrics import accuracy_score\n",
    "from pyngrok import ngrok\n",
    "from flask import Flask, request, jsonify,render_template\n",
    "\n",
    "from google.colab import drive\n",
    "drive.mount('/content/drive')\n",
    "\n",
    "# Load dataset\n",
    "url='https://github.com/huzaifaafzal569/intership_dev/blob/main/gihub_files/Fake.csv'\n",
    "df = pd.read_csv(url)\n",
    "print(df.head())\n",
    "\n",
    "# Check for missing values in 'text' column\n",
    "df['Text'] = df['Text'].fillna(\"\")  # Replace NaN values with empty strings\n",
    "\n",
    "nltk.download('stopwords')\n",
    "nltk.download('wordnet')\n",
    "\n",
    "# Function to clean text\n",
    "def clean_text(text):\n",
    "    text = re.sub(r'\\W', ' ', text)  # Remove special characters\n",
    "    text = text.lower() # Convert all characters into lower case\n",
    "    words = text.split() # split the words from whole text\n",
    "    words = [word for word in words if word not in stopwords.words('english')] # a list words splitted from text\n",
    "    lemmatizer = WordNetLemmatizer() # limit the words into their base like: \"Running -> Run\"\n",
    "    words = [lemmatizer.lemmatize(word) for word in words] # list of words converted into base.\n",
    "    return ' '.join(words) # after cleaning join all the words.\n",
    "\n",
    "print(\"Cleaning text data...\")\n",
    "df['clean_text'] = df['Text'][:500].apply(clean_text) # sliced data-set.\n",
    "df['clean_text'] = df['clean_text'].fillna(\"\")  # Ensure no NaN values\n",
    "print(\"Text data cleaned successfully!\")\n",
    "\n",
    "# Convert text into numerical form using TF-IDF\n",
    "vectorizer = TfidfVectorizer(max_features=500) # (Term Frequency-Inverse Document Frequency) TD-IDF\n",
    "X = vectorizer.fit_transform(df['clean_text'])\n",
    "y = df['label'].map({'Fake': 0, 'Real': 1})  # Convert labels to binary values\n",
    "\n",
    "# Train-test split\n",
    "X_train, X_test, y_train, y_test = train_test_split(X, y, test_size=0.2, random_state=42) # Split the data set into 80% training & 20% testing.\n",
    "\n",
    "# Train model\n",
    "model = MultinomialNB() # Create the model\n",
    "model.fit(X_train, y_train) # Train the model using training data\n",
    "\n",
    "# Evaluate model\n",
    "y_pred = model.predict(X_test) # Make predictions on the test set\n",
    "print(\"Accuracy:\", accuracy_score(y_test, y_pred))\n",
    "\n",
    "# Save model and vectorizer\n",
    "joblib.dump(model, \"model.pkl\")\n",
    "joblib.dump(vectorizer, \"vectorizer.pkl\")\n",
    "\n",
    "# Flask API\n",
    "app = Flask(__name__, template_folder='/content/drive/MyDrive/MyProjects/templates')\n",
    "\n",
    "# Load trained model & vectorizer\n",
    "model = joblib.load(\"model.pkl\")\n",
    "vectorizer = joblib.load(\"vectorizer.pkl\")\n",
    "\n",
    "@app.route('/')  # Home route for the form\n",
    "def home():\n",
    "    return render_template(\"index.html\")  # Render a webpage\n",
    "\n",
    "@app.route('/predict', methods=['POST'])\n",
    "def predict():\n",
    "    if request.method == 'POST':\n",
    "        data = request.form['text']  # Get input from web form\n",
    "        transformed_text = vectorizer.transform([data])\n",
    "        prediction = model.predict(transformed_text)[0]\n",
    "        result = 'Fake' if prediction == 0 else 'Real'\n",
    "        return render_template(\"index.html\", prediction_text=f\"The news is: {result}\")\n",
    "\n",
    "public_url = ngrok.connect(5000)\n",
    "print(f\" * ngrok tunnel running at: {public_url}\")\n",
    "app.run(port=5000)"
   ]
  },
  {
   "cell_type": "code",
   "execution_count": null,
   "metadata": {
    "id": "nImsNGL7kZkO"
   },
   "outputs": [],
   "source": []
  }
 ],
 "metadata": {
  "colab": {
   "provenance": []
  },
  "kernelspec": {
   "display_name": "Python 3",
   "name": "python3"
  },
  "language_info": {
   "name": "python"
  }
 },
 "nbformat": 4,
 "nbformat_minor": 0
}
